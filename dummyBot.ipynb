{
  "nbformat": 4,
  "nbformat_minor": 0,
  "metadata": {
    "colab": {
      "provenance": []
    },
    "kernelspec": {
      "name": "python3",
      "display_name": "Python 3"
    },
    "language_info": {
      "name": "python"
    }
  },
  "cells": [
    {
      "cell_type": "markdown",
      "source": [
        "## Importing Libraries"
      ],
      "metadata": {
        "id": "ieV_hHLS6agg"
      }
    },
    {
      "cell_type": "code",
      "source": [
        "import nltk\n",
        "from nltk.chat.util import Chat, reflections\n",
        "import random\n",
        "import re"
      ],
      "metadata": {
        "id": "Sn6pyOjS7uwF"
      },
      "execution_count": 1,
      "outputs": []
    },
    {
      "cell_type": "markdown",
      "source": [
        "## Loading patterns from chat.txt"
      ],
      "metadata": {
        "id": "u6T2HG_r-Dar"
      }
    },
    {
      "cell_type": "code",
      "source": [
        "def load_patterns_from_file(filename):\n",
        "    patterns = []\n",
        "    with open(filename, 'r', encoding='utf-8') as file:\n",
        "        lines = file.readlines()\n",
        "\n",
        "    pattern = None\n",
        "    responses = []\n",
        "\n",
        "    for line in lines:\n",
        "        line = line.strip()\n",
        "        if not line or line.startswith('#'):\n",
        "            continue  # Skip empty lines and comments\n",
        "\n",
        "        if pattern is None:\n",
        "            pattern = re.escape(line.lower())  # Escape special characters for regex\n",
        "        else:\n",
        "            responses.append(line)\n",
        "\n",
        "        if responses:\n",
        "            patterns.append((pattern, responses))\n",
        "            pattern = None\n",
        "            responses = []\n",
        "\n",
        "    return patterns"
      ],
      "metadata": {
        "id": "ZE5cKr_d-G8Y"
      },
      "execution_count": 2,
      "outputs": []
    },
    {
      "cell_type": "markdown",
      "source": [
        "## Loading pattern from the given chat.txt file"
      ],
      "metadata": {
        "id": "TwLkT4sB8UNy"
      }
    },
    {
      "cell_type": "code",
      "source": [
        "patterns = load_patterns_from_file('chat.txt')"
      ],
      "metadata": {
        "id": "4ePHijz98SIX"
      },
      "execution_count": 3,
      "outputs": []
    },
    {
      "cell_type": "markdown",
      "source": [
        "#Defining chat bot using patterns and reflections"
      ],
      "metadata": {
        "id": "9oVDT3t58kYE"
      }
    },
    {
      "cell_type": "code",
      "source": [
        "patterns = load_patterns_from_file('chat.txt')"
      ],
      "metadata": {
        "id": "zr7QOKoF8joy"
      },
      "execution_count": 4,
      "outputs": []
    },
    {
      "cell_type": "code",
      "source": [
        "formatted_patterns = [(pattern, response) for pattern, response in patterns]"
      ],
      "metadata": {
        "id": "aXhPF2FfAZ0g"
      },
      "execution_count": 5,
      "outputs": []
    },
    {
      "cell_type": "code",
      "source": [
        "chatbot = Chat(formatted_patterns, reflections)"
      ],
      "metadata": {
        "id": "9kTBGIeWAjTm"
      },
      "execution_count": 6,
      "outputs": []
    },
    {
      "cell_type": "markdown",
      "source": [
        "##Start Conversation"
      ],
      "metadata": {
        "id": "wj7f1E058upO"
      }
    },
    {
      "cell_type": "code",
      "source": [
        "def start_chat():\n",
        "    print(\"Chatbot: Hello! I am here to chat with you. Type 'bye' to exit.\")\n",
        "    while True:\n",
        "        user_input = input(\"You: \")\n",
        "        if user_input.lower() in [\"bye\", \"quit\", \"exit\"]:\n",
        "            print(\"Chatbot: Goodbye! Have a great day!\")\n",
        "            break\n",
        "        response = chatbot.respond(user_input)\n",
        "        if response:\n",
        "            if isinstance(response, list):\n",
        "                print(\"Chatbot:\", random.choice(response))  # Select a random response\n",
        "            else:\n",
        "                print(\"Chatbot:\", response)\n",
        "        else:\n",
        "            print(\"Chatbot: I'm not sure I understand that. Could you rephrase?\")"
      ],
      "metadata": {
        "id": "EHS4qSYB8tTN"
      },
      "execution_count": 7,
      "outputs": []
    },
    {
      "cell_type": "code",
      "source": [
        "if __name__ == \"__main__\":\n",
        "    start_chat()\n"
      ],
      "metadata": {
        "colab": {
          "base_uri": "https://localhost:8080/"
        },
        "id": "0FohHbyo80Ka",
        "outputId": "92ef1740-c884-4b63-ec43-54c1f01a211b"
      },
      "execution_count": 8,
      "outputs": [
        {
          "output_type": "stream",
          "name": "stdout",
          "text": [
            "Chatbot: Hello! I am here to chat with you. Type 'bye' to exit.\n",
            "You: hello\n",
            "Chatbot: Hi there! How can I help you?\n",
            "You: how are you\n",
            "Chatbot: I'm doing great, thank you for asking! How about you?\n",
            "You: what is ai\n",
            "Chatbot: Artificial Intelligence (AI) is a field of computer science that enables machines to mimic human intelligence.\n",
            "You: tell me a joke\n",
            "Chatbot: Why don’t scientists trust atoms? Because they make up everything!\n",
            "You: quit\n",
            "Chatbot: Goodbye! Have a great day!\n"
          ]
        }
      ]
    },
    {
      "cell_type": "code",
      "source": [],
      "metadata": {
        "id": "D8-1qtht9Lg_"
      },
      "execution_count": 1,
      "outputs": []
    },
    {
      "cell_type": "code",
      "source": [],
      "metadata": {
        "id": "5bFqxS1d-t44"
      },
      "execution_count": null,
      "outputs": []
    }
  ]
}